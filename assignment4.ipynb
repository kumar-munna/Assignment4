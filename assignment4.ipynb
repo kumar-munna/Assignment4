{
 "cells": [
  {
   "cell_type": "code",
   "execution_count": 17,
   "id": "b32f0d60-741a-4c47-84a0-1905a801d02d",
   "metadata": {},
   "outputs": [],
   "source": [
    "# Question 1: Which keyboard is used to create a function? Create a function to return a \n",
    "#list of add numbers int the range of 1 to 25. "
   ]
  },
  {
   "cell_type": "code",
   "execution_count": null,
   "id": "24f8957a-369e-4d71-b602-ed308f491a3e",
   "metadata": {},
   "outputs": [],
   "source": [
    "#Answer 1:"
   ]
  },
  {
   "cell_type": "markdown",
   "id": "1040a489-2fc4-45ce-846a-bbcbe617f4bf",
   "metadata": {},
   "source": [
    "<!-- We can create a python function using the def keyword . After creating a function we can call by using the name of the function followed by parenthesis containing paramemters of that particular function -->"
   ]
  },
  {
   "cell_type": "code",
   "execution_count": 7,
   "id": "1e31e23f-ed8f-46eb-bb3c-af8a3fb21961",
   "metadata": {},
   "outputs": [],
   "source": [
    "l=[]\n",
    "\n",
    "for i in range(1,25):\n",
    "    l.append(i)\n",
    "def odd_number(l):\n",
    "    l1=[]\n",
    "    for j in l:\n",
    "        if j%2!=0:\n",
    "            l1.append(j)    \n",
    "    return l1"
   ]
  },
  {
   "cell_type": "code",
   "execution_count": 8,
   "id": "5c468012-10c7-4ecf-9bb8-e4d52b3b642d",
   "metadata": {},
   "outputs": [
    {
     "data": {
      "text/plain": [
       "[1,\n",
       " 2,\n",
       " 3,\n",
       " 4,\n",
       " 5,\n",
       " 6,\n",
       " 7,\n",
       " 8,\n",
       " 9,\n",
       " 10,\n",
       " 11,\n",
       " 12,\n",
       " 13,\n",
       " 14,\n",
       " 15,\n",
       " 16,\n",
       " 17,\n",
       " 18,\n",
       " 19,\n",
       " 20,\n",
       " 21,\n",
       " 22,\n",
       " 23,\n",
       " 24]"
      ]
     },
     "execution_count": 8,
     "metadata": {},
     "output_type": "execute_result"
    }
   ],
   "source": [
    "l"
   ]
  },
  {
   "cell_type": "code",
   "execution_count": 9,
   "id": "238f398e-bd30-4956-9093-6361a8ff8ef3",
   "metadata": {},
   "outputs": [
    {
     "data": {
      "text/plain": [
       "[1, 3, 5, 7, 9, 11, 13, 15, 17, 19, 21, 23]"
      ]
     },
     "execution_count": 9,
     "metadata": {},
     "output_type": "execute_result"
    }
   ],
   "source": [
    "odd_number(l)"
   ]
  },
  {
   "cell_type": "code",
   "execution_count": 18,
   "id": "e58866ac-6336-41ac-a3f3-30ffb9718884",
   "metadata": {},
   "outputs": [],
   "source": [
    "# Question 2: Why *args and **kwargs is used in some function? Create a function each for *args\n",
    "#             and **kwarge to demonstrate their use."
   ]
  },
  {
   "cell_type": "code",
   "execution_count": null,
   "id": "e98e74be-d008-4014-9985-2e70d5c40103",
   "metadata": {},
   "outputs": [],
   "source": [
    "#Answer 2:"
   ]
  },
  {
   "cell_type": "code",
   "execution_count": 19,
   "id": "c2c63bc1-3f35-49f6-b270-73f3c20ab1e1",
   "metadata": {},
   "outputs": [],
   "source": [
    "# we use *args when we are not sure how many arguments might be passed to your function, i.e\n",
    "# it allows you pass an arbitary number of arguments to your function."
   ]
  },
  {
   "cell_type": "code",
   "execution_count": 21,
   "id": "3e45b45c-4c26-4d9f-8fe9-dfaaaa140cf0",
   "metadata": {},
   "outputs": [],
   "source": [
    "def test(*args):\n",
    "    return args"
   ]
  },
  {
   "cell_type": "code",
   "execution_count": 22,
   "id": "b6f53c32-820a-4311-ad6e-a28581f1ba69",
   "metadata": {},
   "outputs": [
    {
     "data": {
      "text/plain": [
       "(1, 2, 3, 4, 5, 6, 7, 8, 9, 0, 12, 33344, 567, 7878, 434)"
      ]
     },
     "execution_count": 22,
     "metadata": {},
     "output_type": "execute_result"
    }
   ],
   "source": [
    "test(1,2,3,4,5,6,7,8,9,0,12,33344,567,7878,434)"
   ]
  },
  {
   "cell_type": "code",
   "execution_count": 23,
   "id": "e2432c55-4e47-41f2-a683-6fec2bb83d37",
   "metadata": {},
   "outputs": [],
   "source": [
    "# **kwargs allows you to handle named arguments  that you have not defined in advance."
   ]
  },
  {
   "cell_type": "code",
   "execution_count": 24,
   "id": "236a3576-c41a-4b98-9199-be1d4552ae60",
   "metadata": {},
   "outputs": [],
   "source": [
    "def test1(**kwargs):\n",
    "    return kwargs"
   ]
  },
  {
   "cell_type": "code",
   "execution_count": 33,
   "id": "d9154eb4-a257-49ab-b538-99e6e6ac5611",
   "metadata": {},
   "outputs": [
    {
     "data": {
      "text/plain": [
       "{'name': 'munna', 'last_name': 'kumar', 'email_id': 'munna@gmail.com'}"
      ]
     },
     "execution_count": 33,
     "metadata": {},
     "output_type": "execute_result"
    }
   ],
   "source": [
    "test1(name=\"munna\",last_name=\"kumar\",email_id=\"munna@gmail.com\")"
   ]
  },
  {
   "cell_type": "code",
   "execution_count": null,
   "id": "fa21f1bf-b116-41c4-a83f-c216efb2ff88",
   "metadata": {},
   "outputs": [],
   "source": [
    "# Question 3: What is an iterator in python ? Name the method used to initialise the iterator \n",
    "# object and the method used for iteration. Use these methods to print the first five element\n",
    "# of the given list[2,4,6,8,10,12,14,16,18,20]"
   ]
  },
  {
   "cell_type": "code",
   "execution_count": 35,
   "id": "a9f1f2f1-5e8f-40d2-81d5-0990ca1b5b3f",
   "metadata": {},
   "outputs": [],
   "source": [
    "# Answer 3:"
   ]
  },
  {
   "cell_type": "code",
   "execution_count": 37,
   "id": "59d056f1-bdb4-454a-8106-917d9325cba7",
   "metadata": {},
   "outputs": [],
   "source": [
    "# Iterator in python is an object that is used to iterate over iterable objects like lists,\n",
    "# tuples, dicts and sets.The iterator object is initialized using the iter() method. it uses \n",
    "# the next() method for iteration."
   ]
  },
  {
   "cell_type": "code",
   "execution_count": 3,
   "id": "f981439f-4c3e-4379-a313-22efea1642f9",
   "metadata": {},
   "outputs": [],
   "source": [
    "l=[]\n",
    "for i in range(1,21):\n",
    "    if i%2==0:\n",
    "        l.append(i)\n",
    "\n"
   ]
  },
  {
   "cell_type": "code",
   "execution_count": 4,
   "id": "7f9ff3f9-172d-4287-b2e5-731bc736229f",
   "metadata": {},
   "outputs": [
    {
     "data": {
      "text/plain": [
       "[2, 4, 6, 8, 10, 12, 14, 16, 18, 20]"
      ]
     },
     "execution_count": 4,
     "metadata": {},
     "output_type": "execute_result"
    }
   ],
   "source": [
    "l"
   ]
  },
  {
   "cell_type": "code",
   "execution_count": 19,
   "id": "929a399b-9d72-4de7-9b36-3d6751e81c88",
   "metadata": {},
   "outputs": [],
   "source": [
    "a=iter(l)"
   ]
  },
  {
   "cell_type": "code",
   "execution_count": 20,
   "id": "f5156976-135a-4d0b-8584-4f6c27e08dee",
   "metadata": {},
   "outputs": [
    {
     "data": {
      "text/plain": [
       "2"
      ]
     },
     "execution_count": 20,
     "metadata": {},
     "output_type": "execute_result"
    }
   ],
   "source": [
    "next(a)"
   ]
  },
  {
   "cell_type": "code",
   "execution_count": 21,
   "id": "21299459-54f9-4d69-9627-95c360ad79cb",
   "metadata": {},
   "outputs": [
    {
     "data": {
      "text/plain": [
       "4"
      ]
     },
     "execution_count": 21,
     "metadata": {},
     "output_type": "execute_result"
    }
   ],
   "source": [
    "next(a)"
   ]
  },
  {
   "cell_type": "code",
   "execution_count": 22,
   "id": "0bfd344c-cfbb-459d-870e-aa5af9201a27",
   "metadata": {},
   "outputs": [
    {
     "data": {
      "text/plain": [
       "6"
      ]
     },
     "execution_count": 22,
     "metadata": {},
     "output_type": "execute_result"
    }
   ],
   "source": [
    "next(a)"
   ]
  },
  {
   "cell_type": "code",
   "execution_count": 23,
   "id": "dfee5ba8-48c7-4bd6-a4d6-a12ba08d868a",
   "metadata": {},
   "outputs": [
    {
     "data": {
      "text/plain": [
       "8"
      ]
     },
     "execution_count": 23,
     "metadata": {},
     "output_type": "execute_result"
    }
   ],
   "source": [
    "next(a)"
   ]
  },
  {
   "cell_type": "code",
   "execution_count": 24,
   "id": "c493cb2e-126f-41c4-82f9-ce7c597a79cd",
   "metadata": {},
   "outputs": [
    {
     "data": {
      "text/plain": [
       "10"
      ]
     },
     "execution_count": 24,
     "metadata": {},
     "output_type": "execute_result"
    }
   ],
   "source": [
    "next(a)"
   ]
  },
  {
   "cell_type": "code",
   "execution_count": 25,
   "id": "5edd4065-05d6-480e-bbb7-227a04bd7422",
   "metadata": {},
   "outputs": [],
   "source": [
    "# Question 4: What is a generator function in python ? Why yield keyword is used ? Give an \n",
    "# example of a generator function."
   ]
  },
  {
   "cell_type": "code",
   "execution_count": 26,
   "id": "627cfdf7-cc7e-4c8e-a3d8-74fcac956b18",
   "metadata": {},
   "outputs": [],
   "source": [
    "# answer 4:"
   ]
  },
  {
   "cell_type": "code",
   "execution_count": 27,
   "id": "fa5e086e-6f79-44fd-aebc-4324e035ce17",
   "metadata": {},
   "outputs": [],
   "source": [
    "# Generator function that returns an iterator that produces a sequence of values when iterated\n",
    "# over. Generator are useful when we want to produce a large sequence of values, but we don't\n",
    "# want to store all of them in memory at once."
   ]
  },
  {
   "cell_type": "code",
   "execution_count": 28,
   "id": "3a041502-e4cd-45ea-8a3d-8ef371ef519f",
   "metadata": {},
   "outputs": [],
   "source": [
    "# yield keyword is used to create a generator function. A type of function that is memory \n",
    "# eficient and can be used like an iterator object."
   ]
  },
  {
   "cell_type": "code",
   "execution_count": 33,
   "id": "1c1f4365-53d9-4210-b296-db3d524ba267",
   "metadata": {},
   "outputs": [],
   "source": [
    "def generator(n):\n",
    "    for i in range(n):\n",
    "        if i<=n:\n",
    "            yield i\n",
    "            i=i+1\n",
    "    "
   ]
  },
  {
   "cell_type": "code",
   "execution_count": 34,
   "id": "84e0350e-16fd-411f-81f7-dd694b3c124d",
   "metadata": {},
   "outputs": [],
   "source": [
    "c= generator(9)"
   ]
  },
  {
   "cell_type": "code",
   "execution_count": 35,
   "id": "9318a5d2-2904-4fe8-9532-2a779e9db652",
   "metadata": {},
   "outputs": [
    {
     "data": {
      "text/plain": [
       "generator"
      ]
     },
     "execution_count": 35,
     "metadata": {},
     "output_type": "execute_result"
    }
   ],
   "source": [
    "type(c)"
   ]
  },
  {
   "cell_type": "code",
   "execution_count": 36,
   "id": "718080cf-f7fd-445c-9cfc-f46af7794b04",
   "metadata": {},
   "outputs": [
    {
     "name": "stdout",
     "output_type": "stream",
     "text": [
      "0\n",
      "1\n",
      "2\n",
      "3\n",
      "4\n",
      "5\n",
      "6\n",
      "7\n",
      "8\n"
     ]
    }
   ],
   "source": [
    "for i in c:\n",
    "    print(i)"
   ]
  },
  {
   "cell_type": "code",
   "execution_count": 38,
   "id": "09263168-f393-4a6d-b12d-ea1e9426cd22",
   "metadata": {},
   "outputs": [],
   "source": [
    "# Question 5: Create a generator function for prime number less than 1000. Use the next() method\n",
    "# to print the first 20 prime numbers."
   ]
  },
  {
   "cell_type": "code",
   "execution_count": 1,
   "id": "e5d69645-ecf0-4703-abd5-828aec0a25bf",
   "metadata": {},
   "outputs": [],
   "source": [
    "# Answer 5:"
   ]
  },
  {
   "cell_type": "code",
   "execution_count": 10,
   "id": "71c4c113-a88c-442b-ae96-9fbca5542cc1",
   "metadata": {},
   "outputs": [],
   "source": [
    "def prime_number(n):\n",
    "    for i in range(2,n):\n",
    "        flag =0\n",
    "        for j in range(2,i):\n",
    "            if i%j==0:\n",
    "                flag =1\n",
    "                break\n",
    "        if flag==0:\n",
    "            yield i\n",
    "        \n",
    "    "
   ]
  },
  {
   "cell_type": "code",
   "execution_count": 11,
   "id": "bed0ec8c-ee9b-4333-abdd-6f1ecdc67c2f",
   "metadata": {},
   "outputs": [],
   "source": [
    "v = prime_number(1001)"
   ]
  },
  {
   "cell_type": "code",
   "execution_count": 12,
   "id": "bb14cc3a-350c-410c-8738-0abc91c9646e",
   "metadata": {},
   "outputs": [],
   "source": [
    "l=[]\n",
    "for i in v:\n",
    "    l.append(i)"
   ]
  },
  {
   "cell_type": "code",
   "execution_count": 13,
   "id": "da5e7ba7-0001-41a2-99f5-df500d911625",
   "metadata": {},
   "outputs": [
    {
     "data": {
      "text/plain": [
       "[2,\n",
       " 3,\n",
       " 5,\n",
       " 7,\n",
       " 11,\n",
       " 13,\n",
       " 17,\n",
       " 19,\n",
       " 23,\n",
       " 29,\n",
       " 31,\n",
       " 37,\n",
       " 41,\n",
       " 43,\n",
       " 47,\n",
       " 53,\n",
       " 59,\n",
       " 61,\n",
       " 67,\n",
       " 71,\n",
       " 73,\n",
       " 79,\n",
       " 83,\n",
       " 89,\n",
       " 97,\n",
       " 101,\n",
       " 103,\n",
       " 107,\n",
       " 109,\n",
       " 113,\n",
       " 127,\n",
       " 131,\n",
       " 137,\n",
       " 139,\n",
       " 149,\n",
       " 151,\n",
       " 157,\n",
       " 163,\n",
       " 167,\n",
       " 173,\n",
       " 179,\n",
       " 181,\n",
       " 191,\n",
       " 193,\n",
       " 197,\n",
       " 199,\n",
       " 211,\n",
       " 223,\n",
       " 227,\n",
       " 229,\n",
       " 233,\n",
       " 239,\n",
       " 241,\n",
       " 251,\n",
       " 257,\n",
       " 263,\n",
       " 269,\n",
       " 271,\n",
       " 277,\n",
       " 281,\n",
       " 283,\n",
       " 293,\n",
       " 307,\n",
       " 311,\n",
       " 313,\n",
       " 317,\n",
       " 331,\n",
       " 337,\n",
       " 347,\n",
       " 349,\n",
       " 353,\n",
       " 359,\n",
       " 367,\n",
       " 373,\n",
       " 379,\n",
       " 383,\n",
       " 389,\n",
       " 397,\n",
       " 401,\n",
       " 409,\n",
       " 419,\n",
       " 421,\n",
       " 431,\n",
       " 433,\n",
       " 439,\n",
       " 443,\n",
       " 449,\n",
       " 457,\n",
       " 461,\n",
       " 463,\n",
       " 467,\n",
       " 479,\n",
       " 487,\n",
       " 491,\n",
       " 499,\n",
       " 503,\n",
       " 509,\n",
       " 521,\n",
       " 523,\n",
       " 541,\n",
       " 547,\n",
       " 557,\n",
       " 563,\n",
       " 569,\n",
       " 571,\n",
       " 577,\n",
       " 587,\n",
       " 593,\n",
       " 599,\n",
       " 601,\n",
       " 607,\n",
       " 613,\n",
       " 617,\n",
       " 619,\n",
       " 631,\n",
       " 641,\n",
       " 643,\n",
       " 647,\n",
       " 653,\n",
       " 659,\n",
       " 661,\n",
       " 673,\n",
       " 677,\n",
       " 683,\n",
       " 691,\n",
       " 701,\n",
       " 709,\n",
       " 719,\n",
       " 727,\n",
       " 733,\n",
       " 739,\n",
       " 743,\n",
       " 751,\n",
       " 757,\n",
       " 761,\n",
       " 769,\n",
       " 773,\n",
       " 787,\n",
       " 797,\n",
       " 809,\n",
       " 811,\n",
       " 821,\n",
       " 823,\n",
       " 827,\n",
       " 829,\n",
       " 839,\n",
       " 853,\n",
       " 857,\n",
       " 859,\n",
       " 863,\n",
       " 877,\n",
       " 881,\n",
       " 883,\n",
       " 887,\n",
       " 907,\n",
       " 911,\n",
       " 919,\n",
       " 929,\n",
       " 937,\n",
       " 941,\n",
       " 947,\n",
       " 953,\n",
       " 967,\n",
       " 971,\n",
       " 977,\n",
       " 983,\n",
       " 991,\n",
       " 997]"
      ]
     },
     "execution_count": 13,
     "metadata": {},
     "output_type": "execute_result"
    }
   ],
   "source": [
    "l"
   ]
  },
  {
   "cell_type": "code",
   "execution_count": 14,
   "id": "8bfff89e-68a8-4e07-8045-fc371e0fc9ae",
   "metadata": {},
   "outputs": [],
   "source": [
    "p=iter(l)"
   ]
  },
  {
   "cell_type": "code",
   "execution_count": 15,
   "id": "b734ca16-1f2f-4216-8632-1f080605a5be",
   "metadata": {},
   "outputs": [
    {
     "name": "stdout",
     "output_type": "stream",
     "text": [
      "2\n",
      "3\n",
      "5\n",
      "7\n",
      "11\n",
      "13\n",
      "17\n",
      "19\n",
      "23\n",
      "29\n",
      "31\n",
      "37\n",
      "41\n",
      "43\n",
      "47\n",
      "53\n",
      "59\n",
      "61\n",
      "67\n",
      "71\n",
      "73\n"
     ]
    }
   ],
   "source": [
    "for i in range(0,21):\n",
    "   print( next(p))"
   ]
  },
  {
   "cell_type": "code",
   "execution_count": 40,
   "id": "35b2d49a-5fca-4ecf-a838-402ced43d9c9",
   "metadata": {},
   "outputs": [],
   "source": [
    "# Question 6. Write a python program to print the first 10 Fibonacci numbers using a while loop."
   ]
  },
  {
   "cell_type": "code",
   "execution_count": null,
   "id": "dc47f154-c8c8-4406-a66c-88b26996282a",
   "metadata": {},
   "outputs": [],
   "source": [
    "# Answer 6:"
   ]
  },
  {
   "cell_type": "code",
   "execution_count": 26,
   "id": "621bd1c6-ec83-4c09-bcf4-7a157e009b2c",
   "metadata": {},
   "outputs": [],
   "source": [
    "def fib_number():\n",
    "    a,b=0,1\n",
    "    i=1\n",
    "    while i<=10:\n",
    "        print(a)\n",
    "        a,b=b,a+b\n",
    "        i=i+1"
   ]
  },
  {
   "cell_type": "code",
   "execution_count": 27,
   "id": "7510b282-5386-4835-b59b-3cdd7cd941aa",
   "metadata": {},
   "outputs": [
    {
     "name": "stdout",
     "output_type": "stream",
     "text": [
      "0\n",
      "1\n",
      "1\n",
      "2\n",
      "3\n",
      "5\n",
      "8\n",
      "13\n",
      "21\n",
      "34\n"
     ]
    }
   ],
   "source": [
    "fib_number()"
   ]
  },
  {
   "cell_type": "code",
   "execution_count": 42,
   "id": "f06c2e0a-44ed-48a3-96df-41bb9f43fab4",
   "metadata": {},
   "outputs": [],
   "source": [
    "# Question 7: Write a List Comprehension to iterate through the given string: ‘pwskills’.\n",
    "\n",
    "# Expected output: ['p', 'w', 's', 'k', 'i', 'l', 'l', 's']"
   ]
  },
  {
   "cell_type": "code",
   "execution_count": 43,
   "id": "71ba2e0c-d97d-4216-b3d4-4a2c5af0c690",
   "metadata": {},
   "outputs": [],
   "source": [
    "#Answer 7:"
   ]
  },
  {
   "cell_type": "code",
   "execution_count": 36,
   "id": "40351788-5c98-4ea8-8e6e-11cb67e6b8fe",
   "metadata": {},
   "outputs": [
    {
     "name": "stdout",
     "output_type": "stream",
     "text": [
      "['p', 'w', 's', 'k', 'i', 'l', 'l', 's']\n"
     ]
    }
   ],
   "source": [
    " a=[ i for i in 'pwskills'  ]\n",
    "print(a)"
   ]
  },
  {
   "cell_type": "code",
   "execution_count": 44,
   "id": "96dd8151-8766-41b2-afef-9615b482814b",
   "metadata": {},
   "outputs": [],
   "source": [
    "# Question 8. Write a python program to check whether a given number is Palindrome or not using a while loop"
   ]
  },
  {
   "cell_type": "code",
   "execution_count": 37,
   "id": "d11c54d8-a345-4381-857f-077c6754fbd1",
   "metadata": {},
   "outputs": [],
   "source": [
    "# Answer 8:"
   ]
  },
  {
   "cell_type": "code",
   "execution_count": 46,
   "id": "3a847e16-1f78-4c4b-865e-7411dacb5033",
   "metadata": {},
   "outputs": [
    {
     "name": "stdin",
     "output_type": "stream",
     "text": [
      "Enter a number: 434\n"
     ]
    },
    {
     "name": "stdout",
     "output_type": "stream",
     "text": [
      "The number is palindrome!\n"
     ]
    }
   ],
   "source": [
    "num=int(input(\"Enter a number:\"))\n",
    "temp=num\n",
    "rev=0\n",
    "while(num>0):\n",
    "    dig=num%10\n",
    "    rev=rev*10+dig\n",
    "    num=num//10\n",
    "if(temp==rev):\n",
    "    print(\"The number is palindrome!\")\n",
    "else:\n",
    "    print(\"Not a palindrome!\")"
   ]
  },
  {
   "cell_type": "code",
   "execution_count": 46,
   "id": "a328ab95-3c75-442b-943f-1a92ec3b4e5a",
   "metadata": {},
   "outputs": [],
   "source": [
    "# Question 9. Write a code to print odd numbers from 1 to 100 using list comprehension."
   ]
  },
  {
   "cell_type": "code",
   "execution_count": null,
   "id": "9e674cc5-7545-4d0b-8a15-0777c84246c9",
   "metadata": {},
   "outputs": [],
   "source": [
    "# Answer 9:"
   ]
  },
  {
   "cell_type": "code",
   "execution_count": 43,
   "id": "42884b47-a4a8-48d9-999c-2412a0aeb4d6",
   "metadata": {},
   "outputs": [
    {
     "data": {
      "text/plain": [
       "[1,\n",
       " 3,\n",
       " 5,\n",
       " 7,\n",
       " 9,\n",
       " 11,\n",
       " 13,\n",
       " 15,\n",
       " 17,\n",
       " 19,\n",
       " 21,\n",
       " 23,\n",
       " 25,\n",
       " 27,\n",
       " 29,\n",
       " 31,\n",
       " 33,\n",
       " 35,\n",
       " 37,\n",
       " 39,\n",
       " 41,\n",
       " 43,\n",
       " 45,\n",
       " 47,\n",
       " 49,\n",
       " 51,\n",
       " 53,\n",
       " 55,\n",
       " 57,\n",
       " 59,\n",
       " 61,\n",
       " 63,\n",
       " 65,\n",
       " 67,\n",
       " 69,\n",
       " 71,\n",
       " 73,\n",
       " 75,\n",
       " 77,\n",
       " 79,\n",
       " 81,\n",
       " 83,\n",
       " 85,\n",
       " 87,\n",
       " 89,\n",
       " 91,\n",
       " 93,\n",
       " 95,\n",
       " 97,\n",
       " 99]"
      ]
     },
     "execution_count": 43,
     "metadata": {},
     "output_type": "execute_result"
    }
   ],
   "source": [
    "[ i for i in range(1,100) if i%2!=0 ]"
   ]
  },
  {
   "cell_type": "code",
   "execution_count": null,
   "id": "e32569e3-dddc-4fcf-8b7f-6e5344fef757",
   "metadata": {},
   "outputs": [],
   "source": []
  },
  {
   "cell_type": "code",
   "execution_count": null,
   "id": "d8e960de-523e-4586-beb0-7c521b7ba13f",
   "metadata": {},
   "outputs": [],
   "source": []
  }
 ],
 "metadata": {
  "kernelspec": {
   "display_name": "Python 3 (ipykernel)",
   "language": "python",
   "name": "python3"
  },
  "language_info": {
   "codemirror_mode": {
    "name": "ipython",
    "version": 3
   },
   "file_extension": ".py",
   "mimetype": "text/x-python",
   "name": "python",
   "nbconvert_exporter": "python",
   "pygments_lexer": "ipython3",
   "version": "3.10.8"
  }
 },
 "nbformat": 4,
 "nbformat_minor": 5
}
